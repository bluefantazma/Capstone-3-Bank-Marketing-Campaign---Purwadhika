{
 "cells": [
  {
   "cell_type": "markdown",
   "id": "83c09812-2175-42a3-a6cd-26e2d28e6051",
   "metadata": {},
   "source": [
    "**<p style=\"font-size:20px;\">Bank Marketing Campaign Model</p>**\n",
    "\n",
    "**Business Problem Understanding**\n",
    "\n",
    "Bank X adalah salah satu bank yang menawarkan produk simpanan, pinjaman dan lain-lain kepada nasabah. saat ini bank X sedang membutuhkan analisa terhadap customer base-nya untuk membuat program marketing yang tepat sasaran."
   ]
  },
  {
   "cell_type": "markdown",
   "id": "701f2900-06a9-46a4-94ee-76125caccc96",
   "metadata": {},
   "source": [
    "**Problem Statement**\n",
    "\n",
    "Program marketing yang tidak tepat sasaran dapat menimbulkan kerugian antara lain biaya pemasaran yang terbuang lebih besar, \n",
    "serta kerugian jangka panjang akibat tidak mampunya bank untuk mengakuisisi nasabah yang tepat sasaran."
   ]
  },
  {
   "cell_type": "markdown",
   "id": "0f18cad7-9363-4b8f-be71-fa3bb9b9cfab",
   "metadata": {},
   "source": [
    "**Goals**\n",
    "\n",
    "Tujuan dari analisis dan modeling ini adalah untuk mengetahui profil nasabah yang memiliki kemungkinan lebih tinggi untuk menempatkan dananya di bank (deposit). Dengan adanya analisis modeling yang akurat, bank dapat mengalokasikan anggaran promosi dengan lebih efisien untuk menyasar nasabah yang memiliki profil dengan kemungkinan tertinggi untuk menempatkan dana."
   ]
  },
  {
   "cell_type": "markdown",
   "id": "6c662fa7-11c4-4b03-b715-0c40285e8e71",
   "metadata": {},
   "source": [
    "**Analytic Approach:**\n",
    "\n",
    "Untuk melakukan hal tersebut, kita akan mencoba untuk membangun sebuah model untuk memprediksi nasabah yang cendrung tertarik untuk menempatkan dana.\n",
    "Metode yang dilakukan adalah supervised learning karena datanya sudah memiliki label, dalam hal ini adalah penempatan dana.\n",
    "\n",
    "Adapun metode supervised learning yang digunakan adalah jenis klasifikasi yang akan membantu perusahaan untuk dapat menganalisis efektivitas program pemasaran sebelumnya dengan memeriksa hal-hal antara lain:\n",
    "- jumlah / berapa kali nasabah dihubungi\n",
    "- waktu kontak terakhir dilakukan\n",
    "- hasil program sebelumnya\n",
    "- respon calon nasabah.\n"
   ]
  },
  {
   "cell_type": "markdown",
   "id": "37b60417-0f48-480a-8d78-f396dc758d1e",
   "metadata": {},
   "source": [
    "**Metric Evaluation**\n",
    "\n",
    "Sasaran analisis adalah sebagai berikut: \n",
    "\n",
    "0: Tidak (Tidak berkenan untuk menempatkan dana) \n",
    "\n",
    "1: Ya (bermaksud untuk membuka rekening dana)\n",
    "\n",
    "**Type I Error | False Positive** : ketika sistem memprediksi minat nasabah untuk menempatkan dana, namun pada kenyataannya, mereka tidak bermaksud melakukannya, hal tersebut berarti program pemasaran sia-sia karena nasabah tersebut memiliki kecenderungan untuk tidak menempatkan dana.\n",
    "\n",
    "**Type II Error | False Negative** : ketika sistem memprediksi bahwa nasabah tidak tertarik untuk menempatkan dana, namun pada kenyataannya, mereka ingin menempatkan dana, hasilnya adalah bahwa bank akan kehilangan potensi keuntungan dari nasabah tersebut."
   ]
  },
  {
   "cell_type": "markdown",
   "id": "acbbe546-dee9-47f7-9fe4-1144b31ba7a2",
   "metadata": {},
   "source": [
    "**<p style=\"font-size:20px;\">Data Understanding</p>**"
   ]
  },
  {
   "cell_type": "markdown",
   "id": "0412796a-9179-4f8d-a58e-90e2e32d61a6",
   "metadata": {},
   "source": [
    "**customer profile**\n",
    "\n",
    "age : umur nasabah\n",
    "\n",
    "job : pekerjaan nasabah\n",
    "\n",
    "balance : saldo nasabah\n",
    "\n",
    "housing : nasabah yang memiliki kredit KPR (yes/no)\n",
    "\n",
    "loan : nasabah yang memiliki kredit jenis lain di bank (yes/no)"
   ]
  },
  {
   "cell_type": "markdown",
   "id": "80cda85f-f52c-4c60-97d9-5c86c017971d",
   "metadata": {},
   "source": [
    "**Marketing data**\n",
    "\n",
    "contact: tipe komunikasi (telepon, cellular(handphone))\n",
    "\n",
    "month: bulan terakhir nasabah tersebut dihubungi\n",
    "\n",
    "campaign: jumlah call yang dilakukan terhadap nasabah tersebut selama periode program sebelumnya\n",
    "\n",
    "pdays: jumlah hari setelah nasabah dihubungi pada program sebelumnya\n",
    "\n",
    "poutcome: hasil dari program sebelumnya.\n",
    "\n",
    "deposit: apakah nasabah tersebut akhirnya melakukan pembukaan rekening dan menempatkan dananya (yes/no)"
   ]
  },
  {
   "cell_type": "code",
   "execution_count": 1,
   "id": "f4fe9aae-6ed5-4a9b-ada8-53de2a60d6a8",
   "metadata": {},
   "outputs": [],
   "source": [
    "# Library\n",
    "\n",
    "import pandas as pd\n",
    "import numpy as np\n",
    "\n",
    "# Visualization\n",
    "import matplotlib.pyplot as plt\n",
    "import seaborn as sns\n",
    "import missingno\n",
    "from IPython.display import display\n",
    "\n",
    "# Feature Engineering\n",
    "from sklearn.pipeline import Pipeline\n",
    "from sklearn.impute import SimpleImputer\n",
    "from sklearn.preprocessing import OneHotEncoder, LabelEncoder, OrdinalEncoder\n",
    "from sklearn.compose import ColumnTransformer\n",
    "import category_encoders as ce\n",
    "\n",
    "# Model Selection\n",
    "from sklearn.linear_model import LogisticRegression\n",
    "from sklearn.tree import DecisionTreeClassifier\n",
    "from sklearn.model_selection import GridSearchCV,StratifiedKFold,train_test_split, cross_val_score\n",
    "from sklearn.metrics import classification_report, confusion_matrix\n",
    "from sklearn.neighbors import KNeighborsClassifier\n",
    "from sklearn.ensemble import RandomForestClassifier\n",
    "from xgboost import XGBClassifier\n",
    "import lightgbm as lgb\n",
    "from sklearn.metrics import f1_score, accuracy_score, recall_score, precision_score\n",
    "from sklearn.metrics import roc_curve, roc_auc_score\n",
    "\n",
    "\n",
    "# Imbalance Dataset\n",
    "from imblearn.pipeline import Pipeline\n",
    "from imblearn.over_sampling import RandomOverSampler\n",
    "\n",
    "# Ignore Warning\n",
    "import sys\n",
    "import warnings\n",
    "if not sys.warnoptions:\n",
    "    warnings.simplefilter(\"ignore\")\n",
    "\n",
    "# Set max columns\n",
    "pd.set_option('display.max_columns', None)"
   ]
  },
  {
   "cell_type": "code",
   "execution_count": 2,
   "id": "beae0eb4-ae60-4b63-97ee-a470fae5469d",
   "metadata": {},
   "outputs": [
    {
     "data": {
      "text/html": [
       "<div>\n",
       "<style scoped>\n",
       "    .dataframe tbody tr th:only-of-type {\n",
       "        vertical-align: middle;\n",
       "    }\n",
       "\n",
       "    .dataframe tbody tr th {\n",
       "        vertical-align: top;\n",
       "    }\n",
       "\n",
       "    .dataframe thead th {\n",
       "        text-align: right;\n",
       "    }\n",
       "</style>\n",
       "<table border=\"1\" class=\"dataframe\">\n",
       "  <thead>\n",
       "    <tr style=\"text-align: right;\">\n",
       "      <th></th>\n",
       "      <th>age</th>\n",
       "      <th>job</th>\n",
       "      <th>balance</th>\n",
       "      <th>housing</th>\n",
       "      <th>loan</th>\n",
       "      <th>contact</th>\n",
       "      <th>month</th>\n",
       "      <th>campaign</th>\n",
       "      <th>pdays</th>\n",
       "      <th>poutcome</th>\n",
       "      <th>deposit</th>\n",
       "    </tr>\n",
       "  </thead>\n",
       "  <tbody>\n",
       "    <tr>\n",
       "      <th>0</th>\n",
       "      <td>55</td>\n",
       "      <td>admin.</td>\n",
       "      <td>1662</td>\n",
       "      <td>no</td>\n",
       "      <td>no</td>\n",
       "      <td>cellular</td>\n",
       "      <td>jun</td>\n",
       "      <td>2</td>\n",
       "      <td>-1</td>\n",
       "      <td>unknown</td>\n",
       "      <td>yes</td>\n",
       "    </tr>\n",
       "    <tr>\n",
       "      <th>1</th>\n",
       "      <td>39</td>\n",
       "      <td>self-employed</td>\n",
       "      <td>-3058</td>\n",
       "      <td>yes</td>\n",
       "      <td>yes</td>\n",
       "      <td>cellular</td>\n",
       "      <td>apr</td>\n",
       "      <td>3</td>\n",
       "      <td>-1</td>\n",
       "      <td>unknown</td>\n",
       "      <td>yes</td>\n",
       "    </tr>\n",
       "    <tr>\n",
       "      <th>2</th>\n",
       "      <td>51</td>\n",
       "      <td>admin.</td>\n",
       "      <td>3025</td>\n",
       "      <td>no</td>\n",
       "      <td>no</td>\n",
       "      <td>cellular</td>\n",
       "      <td>may</td>\n",
       "      <td>1</td>\n",
       "      <td>352</td>\n",
       "      <td>other</td>\n",
       "      <td>yes</td>\n",
       "    </tr>\n",
       "    <tr>\n",
       "      <th>3</th>\n",
       "      <td>38</td>\n",
       "      <td>services</td>\n",
       "      <td>-87</td>\n",
       "      <td>yes</td>\n",
       "      <td>no</td>\n",
       "      <td>cellular</td>\n",
       "      <td>may</td>\n",
       "      <td>1</td>\n",
       "      <td>-1</td>\n",
       "      <td>unknown</td>\n",
       "      <td>no</td>\n",
       "    </tr>\n",
       "    <tr>\n",
       "      <th>4</th>\n",
       "      <td>36</td>\n",
       "      <td>housemaid</td>\n",
       "      <td>205</td>\n",
       "      <td>yes</td>\n",
       "      <td>no</td>\n",
       "      <td>telephone</td>\n",
       "      <td>nov</td>\n",
       "      <td>4</td>\n",
       "      <td>-1</td>\n",
       "      <td>unknown</td>\n",
       "      <td>no</td>\n",
       "    </tr>\n",
       "    <tr>\n",
       "      <th>...</th>\n",
       "      <td>...</td>\n",
       "      <td>...</td>\n",
       "      <td>...</td>\n",
       "      <td>...</td>\n",
       "      <td>...</td>\n",
       "      <td>...</td>\n",
       "      <td>...</td>\n",
       "      <td>...</td>\n",
       "      <td>...</td>\n",
       "      <td>...</td>\n",
       "      <td>...</td>\n",
       "    </tr>\n",
       "    <tr>\n",
       "      <th>7808</th>\n",
       "      <td>62</td>\n",
       "      <td>housemaid</td>\n",
       "      <td>2</td>\n",
       "      <td>no</td>\n",
       "      <td>no</td>\n",
       "      <td>cellular</td>\n",
       "      <td>nov</td>\n",
       "      <td>1</td>\n",
       "      <td>-1</td>\n",
       "      <td>unknown</td>\n",
       "      <td>yes</td>\n",
       "    </tr>\n",
       "    <tr>\n",
       "      <th>7809</th>\n",
       "      <td>48</td>\n",
       "      <td>housemaid</td>\n",
       "      <td>5473</td>\n",
       "      <td>no</td>\n",
       "      <td>no</td>\n",
       "      <td>cellular</td>\n",
       "      <td>feb</td>\n",
       "      <td>2</td>\n",
       "      <td>184</td>\n",
       "      <td>success</td>\n",
       "      <td>yes</td>\n",
       "    </tr>\n",
       "    <tr>\n",
       "      <th>7810</th>\n",
       "      <td>36</td>\n",
       "      <td>unknown</td>\n",
       "      <td>179</td>\n",
       "      <td>no</td>\n",
       "      <td>no</td>\n",
       "      <td>cellular</td>\n",
       "      <td>aug</td>\n",
       "      <td>8</td>\n",
       "      <td>-1</td>\n",
       "      <td>unknown</td>\n",
       "      <td>no</td>\n",
       "    </tr>\n",
       "    <tr>\n",
       "      <th>7811</th>\n",
       "      <td>31</td>\n",
       "      <td>admin.</td>\n",
       "      <td>54</td>\n",
       "      <td>yes</td>\n",
       "      <td>no</td>\n",
       "      <td>cellular</td>\n",
       "      <td>nov</td>\n",
       "      <td>1</td>\n",
       "      <td>-1</td>\n",
       "      <td>unknown</td>\n",
       "      <td>no</td>\n",
       "    </tr>\n",
       "    <tr>\n",
       "      <th>7812</th>\n",
       "      <td>60</td>\n",
       "      <td>retired</td>\n",
       "      <td>1588</td>\n",
       "      <td>no</td>\n",
       "      <td>no</td>\n",
       "      <td>cellular</td>\n",
       "      <td>oct</td>\n",
       "      <td>1</td>\n",
       "      <td>-1</td>\n",
       "      <td>unknown</td>\n",
       "      <td>yes</td>\n",
       "    </tr>\n",
       "  </tbody>\n",
       "</table>\n",
       "<p>7813 rows × 11 columns</p>\n",
       "</div>"
      ],
      "text/plain": [
       "      age            job  balance housing loan    contact month  campaign  \\\n",
       "0      55         admin.     1662      no   no   cellular   jun         2   \n",
       "1      39  self-employed    -3058     yes  yes   cellular   apr         3   \n",
       "2      51         admin.     3025      no   no   cellular   may         1   \n",
       "3      38       services      -87     yes   no   cellular   may         1   \n",
       "4      36      housemaid      205     yes   no  telephone   nov         4   \n",
       "...   ...            ...      ...     ...  ...        ...   ...       ...   \n",
       "7808   62      housemaid        2      no   no   cellular   nov         1   \n",
       "7809   48      housemaid     5473      no   no   cellular   feb         2   \n",
       "7810   36        unknown      179      no   no   cellular   aug         8   \n",
       "7811   31         admin.       54     yes   no   cellular   nov         1   \n",
       "7812   60        retired     1588      no   no   cellular   oct         1   \n",
       "\n",
       "      pdays poutcome deposit  \n",
       "0        -1  unknown     yes  \n",
       "1        -1  unknown     yes  \n",
       "2       352    other     yes  \n",
       "3        -1  unknown      no  \n",
       "4        -1  unknown      no  \n",
       "...     ...      ...     ...  \n",
       "7808     -1  unknown     yes  \n",
       "7809    184  success     yes  \n",
       "7810     -1  unknown      no  \n",
       "7811     -1  unknown      no  \n",
       "7812     -1  unknown     yes  \n",
       "\n",
       "[7813 rows x 11 columns]"
      ]
     },
     "execution_count": 2,
     "metadata": {},
     "output_type": "execute_result"
    }
   ],
   "source": [
    "bank_dataset = pd.read_csv(\"data_bank_marketing_campaign.csv\")\n",
    "bank_dataset"
   ]
  },
  {
   "cell_type": "code",
   "execution_count": 3,
   "id": "fda42819-a926-4408-83ed-073524207523",
   "metadata": {},
   "outputs": [
    {
     "name": "stdout",
     "output_type": "stream",
     "text": [
      "<class 'pandas.core.frame.DataFrame'>\n",
      "RangeIndex: 7813 entries, 0 to 7812\n",
      "Data columns (total 11 columns):\n",
      " #   Column    Non-Null Count  Dtype \n",
      "---  ------    --------------  ----- \n",
      " 0   age       7813 non-null   int64 \n",
      " 1   job       7813 non-null   object\n",
      " 2   balance   7813 non-null   int64 \n",
      " 3   housing   7813 non-null   object\n",
      " 4   loan      7813 non-null   object\n",
      " 5   contact   7813 non-null   object\n",
      " 6   month     7813 non-null   object\n",
      " 7   campaign  7813 non-null   int64 \n",
      " 8   pdays     7813 non-null   int64 \n",
      " 9   poutcome  7813 non-null   object\n",
      " 10  deposit   7813 non-null   object\n",
      "dtypes: int64(4), object(7)\n",
      "memory usage: 671.6+ KB\n"
     ]
    }
   ],
   "source": [
    "#info data\n",
    "\n",
    "bank_dataset.info()"
   ]
  },
  {
   "cell_type": "code",
   "execution_count": 4,
   "id": "33385eda-62d5-4429-827d-4fc9d553cda4",
   "metadata": {},
   "outputs": [
    {
     "data": {
      "text/plain": [
       "<Axes: >"
      ]
     },
     "execution_count": 4,
     "metadata": {},
     "output_type": "execute_result"
    },
    {
     "data": {
      "image/png": "[encoded data removed]",
      "text/plain": [
       "<Figure size 2500x1000 with 2 Axes>"
      ]
     },
     "metadata": {},
     "output_type": "display_data"
    }
   ],
   "source": [
    "#cek null dengan missingno\n",
    "missingno.matrix(bank_dataset)"
   ]
  },
  {
   "cell_type": "markdown",
   "id": "83af9d86-5af2-4aef-b32a-ec200dcaf017",
   "metadata": {},
   "source": [
    "Tidak ada null, namun terdapat beberapa data dengan kategori \"unknown\" yang tampil pada kilasan data ini. sekarang akan kita coba untuk melihatnya."
   ]
  },
  {
   "cell_type": "code",
   "execution_count": 5,
   "id": "a5a5ef46-40bc-475f-a78c-78e318d2502f",
   "metadata": {},
   "outputs": [
    {
     "data": {
      "text/html": [
       "<div>\n",
       "<style scoped>\n",
       "    .dataframe tbody tr th:only-of-type {\n",
       "        vertical-align: middle;\n",
       "    }\n",
       "\n",
       "    .dataframe tbody tr th {\n",
       "        vertical-align: top;\n",
       "    }\n",
       "\n",
       "    .dataframe thead th {\n",
       "        text-align: right;\n",
       "    }\n",
       "</style>\n",
       "<table border=\"1\" class=\"dataframe\">\n",
       "  <thead>\n",
       "    <tr style=\"text-align: right;\">\n",
       "      <th></th>\n",
       "      <th>Column Name</th>\n",
       "      <th>Number of Unique</th>\n",
       "      <th>Unique Sample</th>\n",
       "    </tr>\n",
       "  </thead>\n",
       "  <tbody>\n",
       "    <tr>\n",
       "      <th>0</th>\n",
       "      <td>age</td>\n",
       "      <td>75</td>\n",
       "      <td>[55, 39, 51, 38, 36, 41, 37, 35, 57, 23, 33, 31, 53, 30, 46, 48, 25, 29, 28, 52, 49, 44, 42, 27, 47, 64, 26, 34, 56, 32, 58, 45, 54, 50, 79, 65, 40, 24, 60, 43, 61, 59, 62, 68, 82, 71, 73, 76, 69, 20, 72, 22, 67, 19, 70, 75, 63, 93, 77, 80, 66, 21, 87, 81, 92, 88, 84, 83, 78, 74, 18, 85, 95, 86, 90]</td>\n",
       "    </tr>\n",
       "    <tr>\n",
       "      <th>1</th>\n",
       "      <td>job</td>\n",
       "      <td>12</td>\n",
       "      <td>[admin., self-employed, services, housemaid, technician, management, student, blue-collar, entrepreneur, retired, unemployed, unknown]</td>\n",
       "    </tr>\n",
       "    <tr>\n",
       "      <th>2</th>\n",
       "      <td>balance</td>\n",
       "      <td>3153</td>\n",
       "      <td>[1662, -3058, 3025, -87, 205, -76, 4803, 911, 805, 0, 1234, 1107, 1170, 341, 4808, 88, 169, 863, 242, 2597, 4929, 277, 1438, 15, 3733, 204, 1684, 1025, 55, 19, 348, 785, 742, 511, 6651, 1612, 555, 54, 1185, 110, 950, 412, 228, 367, 3993, 2599, 3528, 32, 551, 3161, 533, 8725, 349, 514, 2688, -194, 154, 874, 2, 5953, 1269, -327, 235, 7, 2661, 1948, 20, 502, 193, 13658, 1716, 172, 1667, 157, 8, 951, 427, 241, 469, 2060, 7177, 655, -114, 588, -971, 4570, 250, 131, 93, 22, 15341, 356, 190, -124, 2228, -60, 376, 1567, 855, 4151, ...]</td>\n",
       "    </tr>\n",
       "    <tr>\n",
       "      <th>3</th>\n",
       "      <td>housing</td>\n",
       "      <td>2</td>\n",
       "      <td>[no, yes]</td>\n",
       "    </tr>\n",
       "    <tr>\n",
       "      <th>4</th>\n",
       "      <td>loan</td>\n",
       "      <td>2</td>\n",
       "      <td>[no, yes]</td>\n",
       "    </tr>\n",
       "    <tr>\n",
       "      <th>5</th>\n",
       "      <td>contact</td>\n",
       "      <td>3</td>\n",
       "      <td>[cellular, telephone, unknown]</td>\n",
       "    </tr>\n",
       "    <tr>\n",
       "      <th>6</th>\n",
       "      <td>month</td>\n",
       "      <td>12</td>\n",
       "      <td>[jun, apr, may, nov, jan, sep, feb, mar, aug, jul, oct, dec]</td>\n",
       "    </tr>\n",
       "    <tr>\n",
       "      <th>7</th>\n",
       "      <td>campaign</td>\n",
       "      <td>32</td>\n",
       "      <td>[2, 3, 1, 4, 5, 6, 7, 30, 8, 9, 11, 14, 10, 28, 63, 12, 24, 17, 15, 18, 19, 13, 21, 23, 22, 33, 16, 25, 26, 20, 29, 43]</td>\n",
       "    </tr>\n",
       "    <tr>\n",
       "      <th>8</th>\n",
       "      <td>pdays</td>\n",
       "      <td>422</td>\n",
       "      <td>[-1, 352, 21, 91, 186, 263, 96, 355, 294, 412, 89, 114, 276, 93, 175, 57, 323, 156, 86, 95, 271, 182, 289, 334, 269, 309, 144, 183, 417, 138, 254, 337, 171, 389, 87, 170, 165, 372, 247, 98, 196, 469, 272, 104, 63, 587, 336, 145, 130, 28, 202, 324, 147, 94, 328, 420, 179, 90, 81, 160, 298, 356, 357, 267, 430, 52, 181, 365, 237, 330, 103, 374, 75, 133, 321, 204, 782, 266, 197, 270, 318, 349, 187, 359, 490, 192, 227, 100, 168, 177, 251, 301, 350, 92, 184, 345, 290, 199, 333, 169, ...]</td>\n",
       "    </tr>\n",
       "    <tr>\n",
       "      <th>9</th>\n",
       "      <td>poutcome</td>\n",
       "      <td>4</td>\n",
       "      <td>[unknown, other, failure, success]</td>\n",
       "    </tr>\n",
       "    <tr>\n",
       "      <th>10</th>\n",
       "      <td>deposit</td>\n",
       "      <td>2</td>\n",
       "      <td>[yes, no]</td>\n",
       "    </tr>\n",
       "  </tbody>\n",
       "</table>\n",
       "</div>"
      ],
      "text/plain": [
       "   Column Name  Number of Unique  \\\n",
       "0          age                75   \n",
       "1          job                12   \n",
       "2      balance              3153   \n",
       "3      housing                 2   \n",
       "4         loan                 2   \n",
       "5      contact                 3   \n",
       "6        month                12   \n",
       "7     campaign                32   \n",
       "8        pdays               422   \n",
       "9     poutcome                 4   \n",
       "10     deposit                 2   \n",
       "\n",
       "                                                                                                                                                                                                                                                                                                                                                                                                                                                                                                                                            Unique Sample  \n",
       "0                                                                                                                                                                                                                                            [55, 39, 51, 38, 36, 41, 37, 35, 57, 23, 33, 31, 53, 30, 46, 48, 25, 29, 28, 52, 49, 44, 42, 27, 47, 64, 26, 34, 56, 32, 58, 45, 54, 50, 79, 65, 40, 24, 60, 43, 61, 59, 62, 68, 82, 71, 73, 76, 69, 20, 72, 22, 67, 19, 70, 75, 63, 93, 77, 80, 66, 21, 87, 81, 92, 88, 84, 83, 78, 74, 18, 85, 95, 86, 90]  \n",
       "1                                                                                                                                                                                                                                                                                                                                                                                                                  [admin., self-employed, services, housemaid, technician, management, student, blue-collar, entrepreneur, retired, unemployed, unknown]  \n",
       "2   [1662, -3058, 3025, -87, 205, -76, 4803, 911, 805, 0, 1234, 1107, 1170, 341, 4808, 88, 169, 863, 242, 2597, 4929, 277, 1438, 15, 3733, 204, 1684, 1025, 55, 19, 348, 785, 742, 511, 6651, 1612, 555, 54, 1185, 110, 950, 412, 228, 367, 3993, 2599, 3528, 32, 551, 3161, 533, 8725, 349, 514, 2688, -194, 154, 874, 2, 5953, 1269, -327, 235, 7, 2661, 1948, 20, 502, 193, 13658, 1716, 172, 1667, 157, 8, 951, 427, 241, 469, 2060, 7177, 655, -114, 588, -971, 4570, 250, 131, 93, 22, 15341, 356, 190, -124, 2228, -60, 376, 1567, 855, 4151, ...]  \n",
       "3                                                                                                                                                                                                                                                                                                                                                                                                                                                                                                                                               [no, yes]  \n",
       "4                                                                                                                                                                                                                                                                                                                                                                                                                                                                                                                                               [no, yes]  \n",
       "5                                                                                                                                                                                                                                                                                                                                                                                                                                                                                                                          [cellular, telephone, unknown]  \n",
       "6                                                                                                                                                                                                                                                                                                                                                                                                                                                                                            [jun, apr, may, nov, jan, sep, feb, mar, aug, jul, oct, dec]  \n",
       "7                                                                                                                                                                                                                                                                                                                                                                                                                                 [2, 3, 1, 4, 5, 6, 7, 30, 8, 9, 11, 14, 10, 28, 63, 12, 24, 17, 15, 18, 19, 13, 21, 23, 22, 33, 16, 25, 26, 20, 29, 43]  \n",
       "8                                                  [-1, 352, 21, 91, 186, 263, 96, 355, 294, 412, 89, 114, 276, 93, 175, 57, 323, 156, 86, 95, 271, 182, 289, 334, 269, 309, 144, 183, 417, 138, 254, 337, 171, 389, 87, 170, 165, 372, 247, 98, 196, 469, 272, 104, 63, 587, 336, 145, 130, 28, 202, 324, 147, 94, 328, 420, 179, 90, 81, 160, 298, 356, 357, 267, 430, 52, 181, 365, 237, 330, 103, 374, 75, 133, 321, 204, 782, 266, 197, 270, 318, 349, 187, 359, 490, 192, 227, 100, 168, 177, 251, 301, 350, 92, 184, 345, 290, 199, 333, 169, ...]  \n",
       "9                                                                                                                                                                                                                                                                                                                                                                                                                                                                                                                      [unknown, other, failure, success]  \n",
       "10                                                                                                                                                                                                                                                                                                                                                                                                                                                                                                                                              [yes, no]  "
      ]
     },
     "execution_count": 5,
     "metadata": {},
     "output_type": "execute_result"
    }
   ],
   "source": [
    "pd.set_option('display.max_colwidth', None)\n",
    "# data uni di tiap kolom\n",
    "listItem = []\n",
    "for col in bank_dataset.columns :\n",
    "    listItem.append( [col, bank_dataset[col].nunique(), bank_dataset[col].unique()])\n",
    "\n",
    "tabel1Desc = pd.DataFrame(columns=['Column Name', 'Number of Unique', 'Unique Sample'],\n",
    "                     data=listItem)\n",
    "tabel1Desc"
   ]
  },
  {
   "cell_type": "markdown",
   "id": "c97c4f47-8571-484d-9c65-42e1b94fe61e",
   "metadata": {},
   "source": [
    "Terdapat nilai \"unknown\" pada kolom job, contact, dan poutcome."
   ]
  },
  {
   "cell_type": "code",
   "execution_count": 6,
   "id": "7dd7465f-41fb-4263-a4cf-80f201f1fe29",
   "metadata": {},
   "outputs": [
    {
     "data": {
      "text/plain": [
       "contact\n",
       "cellular     5628\n",
       "unknown      1639\n",
       "telephone     546\n",
       "Name: count, dtype: int64"
      ]
     },
     "execution_count": 6,
     "metadata": {},
     "output_type": "execute_result"
    }
   ],
   "source": [
    "bank_dataset['contact'].value_counts()"
   ]
  },
  {
   "cell_type": "code",
   "execution_count": 7,
   "id": "912f40f5-79a9-4d11-8b32-80b7333eb96a",
   "metadata": {},
   "outputs": [
    {
     "data": {
      "text/plain": [
       "poutcome\n",
       "unknown    5819\n",
       "failure     848\n",
       "success     761\n",
       "other       385\n",
       "Name: count, dtype: int64"
      ]
     },
     "execution_count": 7,
     "metadata": {},
     "output_type": "execute_result"
    }
   ],
   "source": [
    "bank_dataset['poutcome'].value_counts()"
   ]
  },
  {
   "cell_type": "code",
   "execution_count": 8,
   "id": "b9f350cc-1860-4b3c-ad99-37a71c5e618f",
   "metadata": {},
   "outputs": [
    {
     "data": {
      "text/plain": [
       "job\n",
       "management       1792\n",
       "blue-collar      1346\n",
       "technician       1291\n",
       "admin.            936\n",
       "services          658\n",
       "retired           540\n",
       "self-employed     280\n",
       "unemployed        249\n",
       "student           247\n",
       "entrepreneur      236\n",
       "housemaid         184\n",
       "unknown            54\n",
       "Name: count, dtype: int64"
      ]
     },
     "execution_count": 8,
     "metadata": {},
     "output_type": "execute_result"
    }
   ],
   "source": [
    "bank_dataset['job'].value_counts()"
   ]
  },
  {
   "cell_type": "markdown",
   "id": "ae7cbb5e-86d6-4b8a-8619-d72beee2bc51",
   "metadata": {},
   "source": [
    "Pada data ini saya akan coba melakukan beberapa judgement untuk penanganannya.\n",
    "\n",
    "1. Untuk data unknown pada pekerjaan, jumlahnya tidak signifikan dan bisa jadi dikarenakan nasabah tersebut memiliki pekerjaan lain yang tidak terdapat pada kriteria yang ditetapkan, sehingga tidak akan diproses lebih lanjut.\n",
    "\n",
    "2. Untuk data unknown pada kontak, jumlahnya cukup banyak yaitu 1.639 dari 7.813 baris. Mengingat 2 kategori sisanya adalah \"telephone\" dan \"cellular\" yang sebenarnya memiliki kesamaan (hubungi nasabah melalui telepon genggam / telepon rumah), maka saya rasa tidak terlalu diproses lebih lanjut, karena informasi ini mungkin tidak akan terlalu berpengaruh pada hasil program.\n",
    "\n",
    "3. Jumlah unknown pada poutcome terlalu banyak, namun sepertinya bisa dibandingkan dengan kolom \"deposit\" yang secara jelas menunjukkan bahwa nasabah membuka rekening atau tidak. selanjutnya akan saya cek menggunakan pivot table."
   ]
  },
  {
   "cell_type": "code",
   "execution_count": 9,
   "id": "4121cccf-489c-424c-8e3c-affe23160260",
   "metadata": {},
   "outputs": [
    {
     "name": "stdout",
     "output_type": "stream",
     "text": [
      "deposit     no   yes\n",
      "poutcome            \n",
      "failure    413   435\n",
      "other      159   226\n",
      "success     65   696\n",
      "unknown   3444  2375\n"
     ]
    }
   ],
   "source": [
    "# Membuat pivot table\n",
    "pivot_table = pd.pivot_table(bank_dataset, \n",
    "                             index='poutcome', \n",
    "                             columns='deposit', \n",
    "                             aggfunc='size', \n",
    "                             fill_value=0)\n",
    "\n",
    "print(pivot_table)"
   ]
  },
  {
   "cell_type": "markdown",
   "id": "f0236cef-8401-4833-825d-849ac738e504",
   "metadata": {},
   "source": [
    "dengan menggunakan pivot table tersebut terlihat bahwa tidak ada indikasi hubungan antara unknown dan other terhadap deposito yang dibuat, karena baik other maupun unknown memiliki beberapa nilai di \"no\" dan \"yes\". \n",
    "\n",
    "bahkan apabila kita mengacu pada kolom tersebut, ada nasabah yang secara kategori masuk ke dalam \"sukses\" di program pemasaran sebelumnya, namun terbukti tidak melakukan penempatan dana di bank. (poutcome = success & deposit = no)\n",
    "\n",
    "sebaliknya ada juga nasabah yang secara kategori masuk ke dalam \"gagal\" di program pemasaran sebelumnya, namun justru melakukan penempatan dana di bank. (poutcome = failure & deposit = yes)\n",
    "\n",
    "karena hasil yang tidak konsisten ini, maka kolom poutcome akan kami drop. keberhasilan program akan dilihat dari kolom \"deposit\"."
   ]
  },
  {
   "cell_type": "code",
   "execution_count": 10,
   "id": "3f8e6901-c1c3-45da-a7f8-cf7a82065526",
   "metadata": {},
   "outputs": [],
   "source": [
    "bank_model = bank_dataset.copy()\n",
    "bank_model.drop(columns=['poutcome'], inplace=True)"
   ]
  },
  {
   "cell_type": "code",
   "execution_count": 11,
   "id": "3779a48f-53c0-4230-bf21-478751f2a1c6",
   "metadata": {},
   "outputs": [
    {
     "data": {
      "text/html": [
       "<div>\n",
       "<style scoped>\n",
       "    .dataframe tbody tr th:only-of-type {\n",
       "        vertical-align: middle;\n",
       "    }\n",
       "\n",
       "    .dataframe tbody tr th {\n",
       "        vertical-align: top;\n",
       "    }\n",
       "\n",
       "    .dataframe thead th {\n",
       "        text-align: right;\n",
       "    }\n",
       "</style>\n",
       "<table border=\"1\" class=\"dataframe\">\n",
       "  <thead>\n",
       "    <tr style=\"text-align: right;\">\n",
       "      <th></th>\n",
       "      <th>age</th>\n",
       "      <th>job</th>\n",
       "      <th>balance</th>\n",
       "      <th>housing</th>\n",
       "      <th>loan</th>\n",
       "      <th>contact</th>\n",
       "      <th>month</th>\n",
       "      <th>campaign</th>\n",
       "      <th>pdays</th>\n",
       "      <th>deposit</th>\n",
       "    </tr>\n",
       "  </thead>\n",
       "  <tbody>\n",
       "    <tr>\n",
       "      <th>0</th>\n",
       "      <td>55</td>\n",
       "      <td>admin.</td>\n",
       "      <td>1662</td>\n",
       "      <td>no</td>\n",
       "      <td>no</td>\n",
       "      <td>cellular</td>\n",
       "      <td>jun</td>\n",
       "      <td>2</td>\n",
       "      <td>-1</td>\n",
       "      <td>yes</td>\n",
       "    </tr>\n",
       "    <tr>\n",
       "      <th>1</th>\n",
       "      <td>39</td>\n",
       "      <td>self-employed</td>\n",
       "      <td>-3058</td>\n",
       "      <td>yes</td>\n",
       "      <td>yes</td>\n",
       "      <td>cellular</td>\n",
       "      <td>apr</td>\n",
       "      <td>3</td>\n",
       "      <td>-1</td>\n",
       "      <td>yes</td>\n",
       "    </tr>\n",
       "    <tr>\n",
       "      <th>2</th>\n",
       "      <td>51</td>\n",
       "      <td>admin.</td>\n",
       "      <td>3025</td>\n",
       "      <td>no</td>\n",
       "      <td>no</td>\n",
       "      <td>cellular</td>\n",
       "      <td>may</td>\n",
       "      <td>1</td>\n",
       "      <td>352</td>\n",
       "      <td>yes</td>\n",
       "    </tr>\n",
       "    <tr>\n",
       "      <th>3</th>\n",
       "      <td>38</td>\n",
       "      <td>services</td>\n",
       "      <td>-87</td>\n",
       "      <td>yes</td>\n",
       "      <td>no</td>\n",
       "      <td>cellular</td>\n",
       "      <td>may</td>\n",
       "      <td>1</td>\n",
       "      <td>-1</td>\n",
       "      <td>no</td>\n",
       "    </tr>\n",
       "    <tr>\n",
       "      <th>4</th>\n",
       "      <td>36</td>\n",
       "      <td>housemaid</td>\n",
       "      <td>205</td>\n",
       "      <td>yes</td>\n",
       "      <td>no</td>\n",
       "      <td>telephone</td>\n",
       "      <td>nov</td>\n",
       "      <td>4</td>\n",
       "      <td>-1</td>\n",
       "      <td>no</td>\n",
       "    </tr>\n",
       "    <tr>\n",
       "      <th>...</th>\n",
       "      <td>...</td>\n",
       "      <td>...</td>\n",
       "      <td>...</td>\n",
       "      <td>...</td>\n",
       "      <td>...</td>\n",
       "      <td>...</td>\n",
       "      <td>...</td>\n",
       "      <td>...</td>\n",
       "      <td>...</td>\n",
       "      <td>...</td>\n",
       "    </tr>\n",
       "    <tr>\n",
       "      <th>7808</th>\n",
       "      <td>62</td>\n",
       "      <td>housemaid</td>\n",
       "      <td>2</td>\n",
       "      <td>no</td>\n",
       "      <td>no</td>\n",
       "      <td>cellular</td>\n",
       "      <td>nov</td>\n",
       "      <td>1</td>\n",
       "      <td>-1</td>\n",
       "      <td>yes</td>\n",
       "    </tr>\n",
       "    <tr>\n",
       "      <th>7809</th>\n",
       "      <td>48</td>\n",
       "      <td>housemaid</td>\n",
       "      <td>5473</td>\n",
       "      <td>no</td>\n",
       "      <td>no</td>\n",
       "      <td>cellular</td>\n",
       "      <td>feb</td>\n",
       "      <td>2</td>\n",
       "      <td>184</td>\n",
       "      <td>yes</td>\n",
       "    </tr>\n",
       "    <tr>\n",
       "      <th>7810</th>\n",
       "      <td>36</td>\n",
       "      <td>unknown</td>\n",
       "      <td>179</td>\n",
       "      <td>no</td>\n",
       "      <td>no</td>\n",
       "      <td>cellular</td>\n",
       "      <td>aug</td>\n",
       "      <td>8</td>\n",
       "      <td>-1</td>\n",
       "      <td>no</td>\n",
       "    </tr>\n",
       "    <tr>\n",
       "      <th>7811</th>\n",
       "      <td>31</td>\n",
       "      <td>admin.</td>\n",
       "      <td>54</td>\n",
       "      <td>yes</td>\n",
       "      <td>no</td>\n",
       "      <td>cellular</td>\n",
       "      <td>nov</td>\n",
       "      <td>1</td>\n",
       "      <td>-1</td>\n",
       "      <td>no</td>\n",
       "    </tr>\n",
       "    <tr>\n",
       "      <th>7812</th>\n",
       "      <td>60</td>\n",
       "      <td>retired</td>\n",
       "      <td>1588</td>\n",
       "      <td>no</td>\n",
       "      <td>no</td>\n",
       "      <td>cellular</td>\n",
       "      <td>oct</td>\n",
       "      <td>1</td>\n",
       "      <td>-1</td>\n",
       "      <td>yes</td>\n",
       "    </tr>\n",
       "  </tbody>\n",
       "</table>\n",
       "<p>7813 rows × 10 columns</p>\n",
       "</div>"
      ],
      "text/plain": [
       "      age            job  balance housing loan    contact month  campaign  \\\n",
       "0      55         admin.     1662      no   no   cellular   jun         2   \n",
       "1      39  self-employed    -3058     yes  yes   cellular   apr         3   \n",
       "2      51         admin.     3025      no   no   cellular   may         1   \n",
       "3      38       services      -87     yes   no   cellular   may         1   \n",
       "4      36      housemaid      205     yes   no  telephone   nov         4   \n",
       "...   ...            ...      ...     ...  ...        ...   ...       ...   \n",
       "7808   62      housemaid        2      no   no   cellular   nov         1   \n",
       "7809   48      housemaid     5473      no   no   cellular   feb         2   \n",
       "7810   36        unknown      179      no   no   cellular   aug         8   \n",
       "7811   31         admin.       54     yes   no   cellular   nov         1   \n",
       "7812   60        retired     1588      no   no   cellular   oct         1   \n",
       "\n",
       "      pdays deposit  \n",
       "0        -1     yes  \n",
       "1        -1     yes  \n",
       "2       352     yes  \n",
       "3        -1      no  \n",
       "4        -1      no  \n",
       "...     ...     ...  \n",
       "7808     -1     yes  \n",
       "7809    184     yes  \n",
       "7810     -1      no  \n",
       "7811     -1      no  \n",
       "7812     -1     yes  \n",
       "\n",
       "[7813 rows x 10 columns]"
      ]
     },
     "execution_count": 11,
     "metadata": {},
     "output_type": "execute_result"
    }
   ],
   "source": [
    "bank_model"
   ]
  },
  {
   "cell_type": "markdown",
   "id": "4d6777ab-9ad5-4d98-83a1-cd0db884d452",
   "metadata": {},
   "source": [
    "Selanjutnya kita akan melakukan cek outlier numerikal. variabel yang dicek adalah:\n",
    "\n",
    "Age = umur nasabah, apakah terdapat angka yang tidak masuk akal\n",
    "Saldo = saldo nasabah\n",
    "Pdays = jumlah hari yang berlalu setelah nasabah dihubungi pada program sebelumnya\n",
    "Campaign = berapa kali nasabah dihubungi pada program sebelumnya"
   ]
  },
  {
   "cell_type": "code",
   "execution_count": 12,
   "id": "71f19068-8e48-459b-872b-82a26ffc039a",
   "metadata": {},
   "outputs": [
    {
     "data": {
      "text/plain": [
       "Text(0.5, 1.0, 'balance')"
      ]
     },
     "execution_count": 12,
     "metadata": {},
     "output_type": "execute_result"
    },
    {
     "data": {
      "image/png": "[encoded data removed]",
      "text/plain": [
       "<Figure size 2000x3000 with 4 Axes>"
      ]
     },
     "metadata": {},
     "output_type": "display_data"
    }
   ],
   "source": [
    "plt.figure(figsize = (20, 30))\n",
    "ax=plt.subplot(521)\n",
    "plt.boxplot(bank_model['age'])\n",
    "ax.set_title('age')\n",
    "ax=plt.subplot(522)\n",
    "plt.boxplot(bank_model['campaign'])\n",
    "ax.set_title('campaign')\n",
    "ax=plt.subplot(523)\n",
    "plt.boxplot(bank_model['pdays'])\n",
    "ax.set_title('pdays')\n",
    "ax=plt.subplot(524)\n",
    "plt.boxplot(bank_model['balance'])\n",
    "ax.set_title('balance')"
   ]
  },
  {
   "cell_type": "markdown",
   "id": "5dbaee85-e69b-4979-9764-02bc43276f05",
   "metadata": {},
   "source": [
    "Pada beberapa kasus, sebenarnya hal ini masih relatif mungkin terjadi, misalkan :\n",
    "\n",
    "Age : sangat wajar terdapat beberapa nasabah yang usianya sudah lanjut dan masih dapat dihubungi.\n",
    "\n",
    "Balance : sangat wajar terdapat nasabah-nasabah dengan saldo tinggi yang tentu saja akan terlihat sebagai outlier dibandingkan nasabah dengan jumlah tabungan lebih kecil. (jumlah nasabah prioritas lebih sedikit daripada nasabah umum)\n",
    "\n",
    "pdays : sangat wajar nasabah yang pernah dihubungi pada suatu program (beberapa bulan bahkan 1-3 tahun sejak terakhir dihubungi), namun karena tidak memberikan respon positif maka tidak dihubungi lagi untuk program berikutnya.\n",
    "\n",
    "campaign (jumlah nasabah dihubungi) : sangat wajar terdapat nasabah yang tidak mengangkat telepon sehingga petugas menghubungi nasabah tersebut berkali-kali sampai menjawab. hal ini merupakan praktek yang umum di industri keuangan seperti perbankan atau asuransi.\n",
    "\n",
    "**sehubungan dengan hal tersebut, maka kita tidak akan melakukan drop data berdasarkan outlier.**"
   ]
  },
  {
   "cell_type": "markdown",
   "id": "0194d6af-db99-4898-bd75-5762d4ee0e97",
   "metadata": {},
   "source": [
    "**<p style=\"font-size:20px;\">Data Analysis</p>**"
   ]
  },
  {
   "cell_type": "markdown",
   "id": "54636d28-ce4a-47ee-b009-33f8f0ab1b13",
   "metadata": {},
   "source": [
    "Sebagaimana dijelaskan sebelumnya, kita akan menggunakan parameter \"deposit\" sebagai tolak ukur kesuksesan (yes & no). kita ubah menjadi numerik."
   ]
  },
  {
   "cell_type": "code",
   "execution_count": 13,
   "id": "ff44f6ee-3293-48ae-84f6-2ef5f11afbaf",
   "metadata": {},
   "outputs": [
    {
     "data": {
      "text/html": [
       "<div>\n",
       "<style scoped>\n",
       "    .dataframe tbody tr th:only-of-type {\n",
       "        vertical-align: middle;\n",
       "    }\n",
       "\n",
       "    .dataframe tbody tr th {\n",
       "        vertical-align: top;\n",
       "    }\n",
       "\n",
       "    .dataframe thead th {\n",
       "        text-align: right;\n",
       "    }\n",
       "</style>\n",
       "<table border=\"1\" class=\"dataframe\">\n",
       "  <thead>\n",
       "    <tr style=\"text-align: right;\">\n",
       "      <th></th>\n",
       "      <th>age</th>\n",
       "      <th>job</th>\n",
       "      <th>balance</th>\n",
       "      <th>housing</th>\n",
       "      <th>loan</th>\n",
       "      <th>contact</th>\n",
       "      <th>month</th>\n",
       "      <th>campaign</th>\n",
       "      <th>pdays</th>\n",
       "      <th>deposit</th>\n",
       "    </tr>\n",
       "  </thead>\n",
       "  <tbody>\n",
       "    <tr>\n",
       "      <th>0</th>\n",
       "      <td>55</td>\n",
       "      <td>admin.</td>\n",
       "      <td>1662</td>\n",
       "      <td>no</td>\n",
       "      <td>no</td>\n",
       "      <td>cellular</td>\n",
       "      <td>jun</td>\n",
       "      <td>2</td>\n",
       "      <td>-1</td>\n",
       "      <td>1</td>\n",
       "    </tr>\n",
       "    <tr>\n",
       "      <th>1</th>\n",
       "      <td>39</td>\n",
       "      <td>self-employed</td>\n",
       "      <td>-3058</td>\n",
       "      <td>yes</td>\n",
       "      <td>yes</td>\n",
       "      <td>cellular</td>\n",
       "      <td>apr</td>\n",
       "      <td>3</td>\n",
       "      <td>-1</td>\n",
       "      <td>1</td>\n",
       "    </tr>\n",
       "    <tr>\n",
       "      <th>2</th>\n",
       "      <td>51</td>\n",
       "      <td>admin.</td>\n",
       "      <td>3025</td>\n",
       "      <td>no</td>\n",
       "      <td>no</td>\n",
       "      <td>cellular</td>\n",
       "      <td>may</td>\n",
       "      <td>1</td>\n",
       "      <td>352</td>\n",
       "      <td>1</td>\n",
       "    </tr>\n",
       "    <tr>\n",
       "      <th>3</th>\n",
       "      <td>38</td>\n",
       "      <td>services</td>\n",
       "      <td>-87</td>\n",
       "      <td>yes</td>\n",
       "      <td>no</td>\n",
       "      <td>cellular</td>\n",
       "      <td>may</td>\n",
       "      <td>1</td>\n",
       "      <td>-1</td>\n",
       "      <td>0</td>\n",
       "    </tr>\n",
       "    <tr>\n",
       "      <th>4</th>\n",
       "      <td>36</td>\n",
       "      <td>housemaid</td>\n",
       "      <td>205</td>\n",
       "      <td>yes</td>\n",
       "      <td>no</td>\n",
       "      <td>telephone</td>\n",
       "      <td>nov</td>\n",
       "      <td>4</td>\n",
       "      <td>-1</td>\n",
       "      <td>0</td>\n",
       "    </tr>\n",
       "  </tbody>\n",
       "</table>\n",
       "</div>"
      ],
      "text/plain": [
       "   age            job  balance housing loan    contact month  campaign  pdays  \\\n",
       "0   55         admin.     1662      no   no   cellular   jun         2     -1   \n",
       "1   39  self-employed    -3058     yes  yes   cellular   apr         3     -1   \n",
       "2   51         admin.     3025      no   no   cellular   may         1    352   \n",
       "3   38       services      -87     yes   no   cellular   may         1     -1   \n",
       "4   36      housemaid      205     yes   no  telephone   nov         4     -1   \n",
       "\n",
       "   deposit  \n",
       "0        1  \n",
       "1        1  \n",
       "2        1  \n",
       "3        0  \n",
       "4        0  "
      ]
     },
     "execution_count": 13,
     "metadata": {},
     "output_type": "execute_result"
    }
   ],
   "source": [
    "# Nilai Pengganti\n",
    "replace_values = {\"yes\": 1, \"no\": 0}\n",
    "\n",
    "# Ganti nilai kolom \"deposit\" menggunakan metode replace\n",
    "bank_model['deposit'].replace(replace_values, inplace=True)\n",
    "\n",
    "bank_model.head()"
   ]
  },
  {
   "cell_type": "markdown",
   "id": "579801a4-c9cf-4078-a9a3-c485ac40d02d",
   "metadata": {},
   "source": [
    "Selanjutnya kita akan mengklasifikasikan categorical features, dan mengecek isi kategori tersebut."
   ]
  },
  {
   "cell_type": "code",
   "execution_count": 14,
   "id": "260f0c9b-e1ae-4fb0-93a0-4db7759e31b0",
   "metadata": {},
   "outputs": [
    {
     "data": {
      "text/plain": [
       "['job', 'housing', 'loan', 'contact', 'month']"
      ]
     },
     "execution_count": 14,
     "metadata": {},
     "output_type": "execute_result"
    }
   ],
   "source": [
    "categories=[feature for feature in bank_model.columns if ((bank_model[feature].dtypes=='O') & (feature not in ['deposit']))]\n",
    "categories"
   ]
  },
  {
   "cell_type": "code",
   "execution_count": 15,
   "id": "cbb9689b-994e-4995-9790-4f4b26c16a58",
   "metadata": {},
   "outputs": [
    {
     "name": "stdout",
     "output_type": "stream",
     "text": [
      "Fitur job memiliki isi sebanyak 12\n",
      "Fitur housing memiliki isi sebanyak 2\n",
      "Fitur loan memiliki isi sebanyak 2\n",
      "Fitur contact memiliki isi sebanyak 3\n",
      "Fitur month memiliki isi sebanyak 12\n"
     ]
    }
   ],
   "source": [
    "for feature in categories:\n",
    "    print('Fitur {} memiliki isi sebanyak {}'.format(feature,len(bank_model[feature].unique())))"
   ]
  },
  {
   "cell_type": "markdown",
   "id": "acbbb77a-54ee-4065-9e83-137ab94a30e4",
   "metadata": {},
   "source": [
    "Membuat infografis sederhana berdasarkan kategori yang telah disiapkan :"
   ]
  },
  {
   "cell_type": "code",
   "execution_count": 16,
   "id": "b9894e64-f479-4803-beec-928fd7cb3797",
   "metadata": {},
   "outputs": [
    {
     "data": {
      "image/png": "[encoded data removed]",
      "text/plain": [
       "<Figure size 1500x8000 with 1 Axes>"
      ]
     },
     "metadata": {},
     "output_type": "display_data"
    }
   ],
   "source": [
    "plt.figure(figsize=(15,80), facecolor='white')\n",
    "plotnumber = 1\n",
    "ax = plt.subplot(12,3,plotnumber)\n",
    "sns.countplot(y='job',data=bank_model)\n",
    "plt.xlabel('jumlah')\n",
    "plt.title('jumlah nasabah berdasarkan pekerjaan')\n",
    "plt.show()"
   ]
  },
  {
   "cell_type": "code",
   "execution_count": 17,
   "id": "9e701b5d-4502-49fd-83e5-f4dae23d079a",
   "metadata": {},
   "outputs": [
    {
     "data": {
      "image/png": "[encoded data removed]",
      "text/plain": [
       "<Figure size 1500x8000 with 1 Axes>"
      ]
     },
     "metadata": {},
     "output_type": "display_data"
    }
   ],
   "source": [
    "plt.figure(figsize=(15,80), facecolor='white')\n",
    "plotnumber = 1\n",
    "ax = plt.subplot(12,3,plotnumber)\n",
    "sns.countplot(y='housing',data=bank_model)\n",
    "plt.xlabel('jumlah')\n",
    "plt.title('jumlah nasabah yang memiliki KPR')\n",
    "plt.show()"
   ]
  },
  {
   "cell_type": "code",
   "execution_count": 18,
   "id": "3bc68ef8-1192-4eb6-8b53-21bd4c256041",
   "metadata": {},
   "outputs": [
    {
     "data": {
      "image/png": "[encoded data removed]",
      "text/plain": [
       "<Figure size 1500x8000 with 1 Axes>"
      ]
     },
     "metadata": {},
     "output_type": "display_data"
    }
   ],
   "source": [
    "plt.figure(figsize=(15,80), facecolor='white')\n",
    "plotnumber = 1\n",
    "ax = plt.subplot(12,3,plotnumber)\n",
    "sns.countplot(y='loan',data=bank_model)\n",
    "plt.xlabel('jumlah')\n",
    "plt.title('jumlah nasabah yang memiliki Kredit selain KPR')\n",
    "plt.show()"
   ]
  },
  {
   "cell_type": "code",
   "execution_count": 19,
   "id": "220886f1-8973-43ae-850a-84a2e43f9f46",
   "metadata": {},
   "outputs": [
    {
     "data": {
      "image/png": "[encoded data removed]",
      "text/plain": [
       "<Figure size 1500x8000 with 1 Axes>"
      ]
     },
     "metadata": {},
     "output_type": "display_data"
    }
   ],
   "source": [
    "plt.figure(figsize=(15,80), facecolor='white')\n",
    "plotnumber = 1\n",
    "ax = plt.subplot(12,3,plotnumber)\n",
    "sns.countplot(y='contact',data=bank_model)\n",
    "plt.xlabel('jumlah')\n",
    "plt.title('Jenis alat komunikasi yang digunakan untuk menghubungi nasabah')\n",
    "plt.show()"
   ]
  },
  {
   "cell_type": "code",
   "execution_count": 20,
   "id": "38441a76-a338-4e6a-a927-d2c86e20945c",
   "metadata": {},
   "outputs": [
    {
     "data": {
      "image/png": "[encoded data removed]",
      "text/plain": [
       "<Figure size 1500x8000 with 1 Axes>"
      ]
     },
     "metadata": {},
     "output_type": "display_data"
    }
   ],
   "source": [
    "plt.figure(figsize=(15,80), facecolor='white')\n",
    "plotnumber = 1\n",
    "ax = plt.subplot(12,3,plotnumber)\n",
    "sns.countplot(y='month',data=bank_model)\n",
    "plt.xlabel('jumlah')\n",
    "plt.title('Bulan ketika nasabah dihubungi terakhir kali')\n",
    "plt.show()"
   ]
  },
  {
   "cell_type": "markdown",
   "id": "d950c4e7-3403-426d-a86a-c944be9bbf32",
   "metadata": {},
   "source": [
    "Selanjutnya kita akan mengetahui profil nasabah yang melakukan penempatan dana di bank, dalam hal ini memiliki nilai \"1\" pada \"Deposit\"."
   ]
  },
  {
   "cell_type": "code",
   "execution_count": 21,
   "id": "bd653d86-9116-4f32-9dd6-5c03d0d06694",
   "metadata": {},
   "outputs": [
    {
     "data": {
      "text/html": [
       "<div>\n",
       "<style scoped>\n",
       "    .dataframe tbody tr th:only-of-type {\n",
       "        vertical-align: middle;\n",
       "    }\n",
       "\n",
       "    .dataframe tbody tr th {\n",
       "        vertical-align: top;\n",
       "    }\n",
       "\n",
       "    .dataframe thead th {\n",
       "        text-align: right;\n",
       "    }\n",
       "</style>\n",
       "<table border=\"1\" class=\"dataframe\">\n",
       "  <thead>\n",
       "    <tr style=\"text-align: right;\">\n",
       "      <th></th>\n",
       "      <th>age</th>\n",
       "      <th>job</th>\n",
       "      <th>balance</th>\n",
       "      <th>housing</th>\n",
       "      <th>loan</th>\n",
       "      <th>contact</th>\n",
       "      <th>month</th>\n",
       "      <th>campaign</th>\n",
       "      <th>pdays</th>\n",
       "      <th>deposit</th>\n",
       "    </tr>\n",
       "  </thead>\n",
       "  <tbody>\n",
       "    <tr>\n",
       "      <th>0</th>\n",
       "      <td>55</td>\n",
       "      <td>admin.</td>\n",
       "      <td>1662</td>\n",
       "      <td>no</td>\n",
       "      <td>no</td>\n",
       "      <td>cellular</td>\n",
       "      <td>jun</td>\n",
       "      <td>2</td>\n",
       "      <td>-1</td>\n",
       "      <td>1</td>\n",
       "    </tr>\n",
       "    <tr>\n",
       "      <th>1</th>\n",
       "      <td>39</td>\n",
       "      <td>self-employed</td>\n",
       "      <td>-3058</td>\n",
       "      <td>yes</td>\n",
       "      <td>yes</td>\n",
       "      <td>cellular</td>\n",
       "      <td>apr</td>\n",
       "      <td>3</td>\n",
       "      <td>-1</td>\n",
       "      <td>1</td>\n",
       "    </tr>\n",
       "    <tr>\n",
       "      <th>2</th>\n",
       "      <td>51</td>\n",
       "      <td>admin.</td>\n",
       "      <td>3025</td>\n",
       "      <td>no</td>\n",
       "      <td>no</td>\n",
       "      <td>cellular</td>\n",
       "      <td>may</td>\n",
       "      <td>1</td>\n",
       "      <td>352</td>\n",
       "      <td>1</td>\n",
       "    </tr>\n",
       "    <tr>\n",
       "      <th>6</th>\n",
       "      <td>37</td>\n",
       "      <td>admin.</td>\n",
       "      <td>4803</td>\n",
       "      <td>no</td>\n",
       "      <td>no</td>\n",
       "      <td>cellular</td>\n",
       "      <td>jan</td>\n",
       "      <td>2</td>\n",
       "      <td>-1</td>\n",
       "      <td>1</td>\n",
       "    </tr>\n",
       "    <tr>\n",
       "      <th>7</th>\n",
       "      <td>36</td>\n",
       "      <td>technician</td>\n",
       "      <td>911</td>\n",
       "      <td>yes</td>\n",
       "      <td>yes</td>\n",
       "      <td>cellular</td>\n",
       "      <td>may</td>\n",
       "      <td>2</td>\n",
       "      <td>21</td>\n",
       "      <td>1</td>\n",
       "    </tr>\n",
       "    <tr>\n",
       "      <th>...</th>\n",
       "      <td>...</td>\n",
       "      <td>...</td>\n",
       "      <td>...</td>\n",
       "      <td>...</td>\n",
       "      <td>...</td>\n",
       "      <td>...</td>\n",
       "      <td>...</td>\n",
       "      <td>...</td>\n",
       "      <td>...</td>\n",
       "      <td>...</td>\n",
       "    </tr>\n",
       "    <tr>\n",
       "      <th>7802</th>\n",
       "      <td>63</td>\n",
       "      <td>retired</td>\n",
       "      <td>12067</td>\n",
       "      <td>no</td>\n",
       "      <td>no</td>\n",
       "      <td>telephone</td>\n",
       "      <td>apr</td>\n",
       "      <td>1</td>\n",
       "      <td>191</td>\n",
       "      <td>1</td>\n",
       "    </tr>\n",
       "    <tr>\n",
       "      <th>7805</th>\n",
       "      <td>47</td>\n",
       "      <td>management</td>\n",
       "      <td>159</td>\n",
       "      <td>no</td>\n",
       "      <td>no</td>\n",
       "      <td>telephone</td>\n",
       "      <td>oct</td>\n",
       "      <td>3</td>\n",
       "      <td>155</td>\n",
       "      <td>1</td>\n",
       "    </tr>\n",
       "    <tr>\n",
       "      <th>7808</th>\n",
       "      <td>62</td>\n",
       "      <td>housemaid</td>\n",
       "      <td>2</td>\n",
       "      <td>no</td>\n",
       "      <td>no</td>\n",
       "      <td>cellular</td>\n",
       "      <td>nov</td>\n",
       "      <td>1</td>\n",
       "      <td>-1</td>\n",
       "      <td>1</td>\n",
       "    </tr>\n",
       "    <tr>\n",
       "      <th>7809</th>\n",
       "      <td>48</td>\n",
       "      <td>housemaid</td>\n",
       "      <td>5473</td>\n",
       "      <td>no</td>\n",
       "      <td>no</td>\n",
       "      <td>cellular</td>\n",
       "      <td>feb</td>\n",
       "      <td>2</td>\n",
       "      <td>184</td>\n",
       "      <td>1</td>\n",
       "    </tr>\n",
       "    <tr>\n",
       "      <th>7812</th>\n",
       "      <td>60</td>\n",
       "      <td>retired</td>\n",
       "      <td>1588</td>\n",
       "      <td>no</td>\n",
       "      <td>no</td>\n",
       "      <td>cellular</td>\n",
       "      <td>oct</td>\n",
       "      <td>1</td>\n",
       "      <td>-1</td>\n",
       "      <td>1</td>\n",
       "    </tr>\n",
       "  </tbody>\n",
       "</table>\n",
       "<p>3732 rows × 10 columns</p>\n",
       "</div>"
      ],
      "text/plain": [
       "      age            job  balance housing loan    contact month  campaign  \\\n",
       "0      55         admin.     1662      no   no   cellular   jun         2   \n",
       "1      39  self-employed    -3058     yes  yes   cellular   apr         3   \n",
       "2      51         admin.     3025      no   no   cellular   may         1   \n",
       "6      37         admin.     4803      no   no   cellular   jan         2   \n",
       "7      36     technician      911     yes  yes   cellular   may         2   \n",
       "...   ...            ...      ...     ...  ...        ...   ...       ...   \n",
       "7802   63        retired    12067      no   no  telephone   apr         1   \n",
       "7805   47     management      159      no   no  telephone   oct         3   \n",
       "7808   62      housemaid        2      no   no   cellular   nov         1   \n",
       "7809   48      housemaid     5473      no   no   cellular   feb         2   \n",
       "7812   60        retired     1588      no   no   cellular   oct         1   \n",
       "\n",
       "      pdays  deposit  \n",
       "0        -1        1  \n",
       "1        -1        1  \n",
       "2       352        1  \n",
       "6        -1        1  \n",
       "7        21        1  \n",
       "...     ...      ...  \n",
       "7802    191        1  \n",
       "7805    155        1  \n",
       "7808     -1        1  \n",
       "7809    184        1  \n",
       "7812     -1        1  \n",
       "\n",
       "[3732 rows x 10 columns]"
      ]
     },
     "execution_count": 21,
     "metadata": {},
     "output_type": "execute_result"
    }
   ],
   "source": [
    "Nasabah_Dana = bank_model[bank_model['deposit'] >= 1]\n",
    "Nasabah_Dana"
   ]
  },
  {
   "cell_type": "markdown",
   "id": "6a427c22-7f9f-42fe-9b8c-9c980884b558",
   "metadata": {},
   "source": [
    "Profil pertama adalah nasabah berdasarkan jenis pekerjaan."
   ]
  },
  {
   "cell_type": "code",
   "execution_count": 22,
   "id": "e7123d9f-cc03-4db4-802b-760b8e994fde",
   "metadata": {},
   "outputs": [
    {
     "data": {
      "text/html": [
       "<div>\n",
       "<style scoped>\n",
       "    .dataframe tbody tr th:only-of-type {\n",
       "        vertical-align: middle;\n",
       "    }\n",
       "\n",
       "    .dataframe tbody tr th {\n",
       "        vertical-align: top;\n",
       "    }\n",
       "\n",
       "    .dataframe thead th {\n",
       "        text-align: right;\n",
       "    }\n",
       "</style>\n",
       "<table border=\"1\" class=\"dataframe\">\n",
       "  <thead>\n",
       "    <tr style=\"text-align: right;\">\n",
       "      <th></th>\n",
       "      <th>job</th>\n",
       "      <th>Rata-Rata Saldo</th>\n",
       "      <th>Total Saldo</th>\n",
       "      <th>Jumlah Nasabah</th>\n",
       "    </tr>\n",
       "  </thead>\n",
       "  <tbody>\n",
       "    <tr>\n",
       "      <th>0</th>\n",
       "      <td>admin.</td>\n",
       "      <td>1457.421171</td>\n",
       "      <td>647095</td>\n",
       "      <td>444</td>\n",
       "    </tr>\n",
       "    <tr>\n",
       "      <th>1</th>\n",
       "      <td>blue-collar</td>\n",
       "      <td>1299.323413</td>\n",
       "      <td>654859</td>\n",
       "      <td>504</td>\n",
       "    </tr>\n",
       "    <tr>\n",
       "      <th>2</th>\n",
       "      <td>entrepreneur</td>\n",
       "      <td>2077.882979</td>\n",
       "      <td>195321</td>\n",
       "      <td>94</td>\n",
       "    </tr>\n",
       "    <tr>\n",
       "      <th>3</th>\n",
       "      <td>housemaid</td>\n",
       "      <td>1987.430556</td>\n",
       "      <td>143095</td>\n",
       "      <td>72</td>\n",
       "    </tr>\n",
       "    <tr>\n",
       "      <th>4</th>\n",
       "      <td>management</td>\n",
       "      <td>2195.292123</td>\n",
       "      <td>2006497</td>\n",
       "      <td>914</td>\n",
       "    </tr>\n",
       "    <tr>\n",
       "      <th>5</th>\n",
       "      <td>retired</td>\n",
       "      <td>2314.616438</td>\n",
       "      <td>844835</td>\n",
       "      <td>365</td>\n",
       "    </tr>\n",
       "    <tr>\n",
       "      <th>6</th>\n",
       "      <td>self-employed</td>\n",
       "      <td>2638.881890</td>\n",
       "      <td>335138</td>\n",
       "      <td>127</td>\n",
       "    </tr>\n",
       "    <tr>\n",
       "      <th>7</th>\n",
       "      <td>services</td>\n",
       "      <td>1156.434615</td>\n",
       "      <td>300673</td>\n",
       "      <td>260</td>\n",
       "    </tr>\n",
       "    <tr>\n",
       "      <th>8</th>\n",
       "      <td>student</td>\n",
       "      <td>1501.119565</td>\n",
       "      <td>276206</td>\n",
       "      <td>184</td>\n",
       "    </tr>\n",
       "    <tr>\n",
       "      <th>9</th>\n",
       "      <td>technician</td>\n",
       "      <td>1824.410084</td>\n",
       "      <td>1085524</td>\n",
       "      <td>595</td>\n",
       "    </tr>\n",
       "    <tr>\n",
       "      <th>10</th>\n",
       "      <td>unemployed</td>\n",
       "      <td>1388.727891</td>\n",
       "      <td>204143</td>\n",
       "      <td>147</td>\n",
       "    </tr>\n",
       "    <tr>\n",
       "      <th>11</th>\n",
       "      <td>unknown</td>\n",
       "      <td>2585.923077</td>\n",
       "      <td>67234</td>\n",
       "      <td>26</td>\n",
       "    </tr>\n",
       "  </tbody>\n",
       "</table>\n",
       "</div>"
      ],
      "text/plain": [
       "              job  Rata-Rata Saldo  Total Saldo  Jumlah Nasabah\n",
       "0          admin.      1457.421171       647095             444\n",
       "1     blue-collar      1299.323413       654859             504\n",
       "2    entrepreneur      2077.882979       195321              94\n",
       "3       housemaid      1987.430556       143095              72\n",
       "4      management      2195.292123      2006497             914\n",
       "5         retired      2314.616438       844835             365\n",
       "6   self-employed      2638.881890       335138             127\n",
       "7        services      1156.434615       300673             260\n",
       "8         student      1501.119565       276206             184\n",
       "9      technician      1824.410084      1085524             595\n",
       "10     unemployed      1388.727891       204143             147\n",
       "11        unknown      2585.923077        67234              26"
      ]
     },
     "execution_count": 22,
     "metadata": {},
     "output_type": "execute_result"
    }
   ],
   "source": [
    "# Membuat pivot table\n",
    "pivot_job = pd.pivot_table(Nasabah_Dana, \n",
    "                             index='job', \n",
    "                             values='balance', \n",
    "                             aggfunc={'job': 'count', 'balance': ['mean', 'sum']},\n",
    "                             fill_value=0)\n",
    "\n",
    "pivot_job.columns = ['Rata-Rata Saldo', 'Total Saldo', 'Jumlah Nasabah']\n",
    "pivot_job = pivot_job.reset_index()\n",
    "\n",
    "pivot_job"
   ]
  },
  {
   "cell_type": "markdown",
   "id": "6d446ab8-7253-4b74-bc71-f4b76ccbbfda",
   "metadata": {},
   "source": [
    "Jenis nasabah yang paling banyak menempatkan dana adalah nasabah dengan pekerjaan sebagai **manajemen perusahaan, teknisi, blue-collar, dan admin**. namun dari sisi rata-rata saldo, nasabah dengan profesi self-employed (pengusaha), retired (pensiunan), manajemen perusahaan dan enterpreneur memiliki rata-rata saldo yang relatif tinggi."
   ]
  },
  {
   "cell_type": "markdown",
   "id": "dcdea779-06e3-4401-8eb1-f7cafd77c722",
   "metadata": {},
   "source": [
    "Untuk kategori usia, kita dapat memberikan kelompok pada nasabah berdasarkan usia."
   ]
  },
  {
   "cell_type": "code",
   "execution_count": 23,
   "id": "3ad023f8-3e5b-40c2-b069-dd24d834ad94",
   "metadata": {},
   "outputs": [
    {
     "data": {
      "text/plain": [
       "0       Dewasa\n",
       "1       Dewasa\n",
       "2       Dewasa\n",
       "3       Dewasa\n",
       "4       Dewasa\n",
       "         ...  \n",
       "7808    Lansia\n",
       "7809    Dewasa\n",
       "7810    Dewasa\n",
       "7811    Dewasa\n",
       "7812    Lansia\n",
       "Name: age, Length: 7813, dtype: category\n",
       "Categories (4, object): ['Anak-anak' < 'Remaja' < 'Dewasa' < 'Lansia']"
      ]
     },
     "execution_count": 23,
     "metadata": {},
     "output_type": "execute_result"
    }
   ],
   "source": [
    "# Tentukan rentang nilai untuk setiap kelompok\n",
    "range_usia = [0, 9, 17, 59, float('inf')]\n",
    "\n",
    "# Tentukan label untuk setiap kelompok\n",
    "usia = ['Anak-anak', 'Remaja', 'Dewasa', 'Lansia']\n",
    "\n",
    "# Lakukan binning menggunakan pd.cut\n",
    "kelompok_usia = pd.cut(bank_model.age, bins=range_usia, labels=usia, right=False)\n",
    "\n",
    "kelompok_usia"
   ]
  },
  {
   "cell_type": "code",
   "execution_count": 24,
   "id": "8d292c5d-cce9-45cf-b4e7-4500b43b890c",
   "metadata": {},
   "outputs": [],
   "source": [
    "# Gabungkan balance_bins dengan data awal\n",
    "bank_model = bank_model.assign(kelompok_usia=kelompok_usia)\n",
    "Nasabah_Dana = Nasabah_Dana.assign(kelompok_usia=kelompok_usia)"
   ]
  },
  {
   "cell_type": "code",
   "execution_count": 25,
   "id": "62800c74-c43e-4e73-a230-f653fee36a10",
   "metadata": {},
   "outputs": [
    {
     "data": {
      "text/html": [
       "<div>\n",
       "<style scoped>\n",
       "    .dataframe tbody tr th:only-of-type {\n",
       "        vertical-align: middle;\n",
       "    }\n",
       "\n",
       "    .dataframe tbody tr th {\n",
       "        vertical-align: top;\n",
       "    }\n",
       "\n",
       "    .dataframe thead th {\n",
       "        text-align: right;\n",
       "    }\n",
       "</style>\n",
       "<table border=\"1\" class=\"dataframe\">\n",
       "  <thead>\n",
       "    <tr style=\"text-align: right;\">\n",
       "      <th></th>\n",
       "      <th>age</th>\n",
       "      <th>job</th>\n",
       "      <th>balance</th>\n",
       "      <th>housing</th>\n",
       "      <th>loan</th>\n",
       "      <th>contact</th>\n",
       "      <th>month</th>\n",
       "      <th>campaign</th>\n",
       "      <th>pdays</th>\n",
       "      <th>deposit</th>\n",
       "      <th>kelompok_usia</th>\n",
       "    </tr>\n",
       "  </thead>\n",
       "  <tbody>\n",
       "    <tr>\n",
       "      <th>0</th>\n",
       "      <td>55</td>\n",
       "      <td>admin.</td>\n",
       "      <td>1662</td>\n",
       "      <td>no</td>\n",
       "      <td>no</td>\n",
       "      <td>cellular</td>\n",
       "      <td>jun</td>\n",
       "      <td>2</td>\n",
       "      <td>-1</td>\n",
       "      <td>1</td>\n",
       "      <td>Dewasa</td>\n",
       "    </tr>\n",
       "    <tr>\n",
       "      <th>1</th>\n",
       "      <td>39</td>\n",
       "      <td>self-employed</td>\n",
       "      <td>-3058</td>\n",
       "      <td>yes</td>\n",
       "      <td>yes</td>\n",
       "      <td>cellular</td>\n",
       "      <td>apr</td>\n",
       "      <td>3</td>\n",
       "      <td>-1</td>\n",
       "      <td>1</td>\n",
       "      <td>Dewasa</td>\n",
       "    </tr>\n",
       "    <tr>\n",
       "      <th>2</th>\n",
       "      <td>51</td>\n",
       "      <td>admin.</td>\n",
       "      <td>3025</td>\n",
       "      <td>no</td>\n",
       "      <td>no</td>\n",
       "      <td>cellular</td>\n",
       "      <td>may</td>\n",
       "      <td>1</td>\n",
       "      <td>352</td>\n",
       "      <td>1</td>\n",
       "      <td>Dewasa</td>\n",
       "    </tr>\n",
       "    <tr>\n",
       "      <th>6</th>\n",
       "      <td>37</td>\n",
       "      <td>admin.</td>\n",
       "      <td>4803</td>\n",
       "      <td>no</td>\n",
       "      <td>no</td>\n",
       "      <td>cellular</td>\n",
       "      <td>jan</td>\n",
       "      <td>2</td>\n",
       "      <td>-1</td>\n",
       "      <td>1</td>\n",
       "      <td>Dewasa</td>\n",
       "    </tr>\n",
       "    <tr>\n",
       "      <th>7</th>\n",
       "      <td>36</td>\n",
       "      <td>technician</td>\n",
       "      <td>911</td>\n",
       "      <td>yes</td>\n",
       "      <td>yes</td>\n",
       "      <td>cellular</td>\n",
       "      <td>may</td>\n",
       "      <td>2</td>\n",
       "      <td>21</td>\n",
       "      <td>1</td>\n",
       "      <td>Dewasa</td>\n",
       "    </tr>\n",
       "    <tr>\n",
       "      <th>...</th>\n",
       "      <td>...</td>\n",
       "      <td>...</td>\n",
       "      <td>...</td>\n",
       "      <td>...</td>\n",
       "      <td>...</td>\n",
       "      <td>...</td>\n",
       "      <td>...</td>\n",
       "      <td>...</td>\n",
       "      <td>...</td>\n",
       "      <td>...</td>\n",
       "      <td>...</td>\n",
       "    </tr>\n",
       "    <tr>\n",
       "      <th>7802</th>\n",
       "      <td>63</td>\n",
       "      <td>retired</td>\n",
       "      <td>12067</td>\n",
       "      <td>no</td>\n",
       "      <td>no</td>\n",
       "      <td>telephone</td>\n",
       "      <td>apr</td>\n",
       "      <td>1</td>\n",
       "      <td>191</td>\n",
       "      <td>1</td>\n",
       "      <td>Lansia</td>\n",
       "    </tr>\n",
       "    <tr>\n",
       "      <th>7805</th>\n",
       "      <td>47</td>\n",
       "      <td>management</td>\n",
       "      <td>159</td>\n",
       "      <td>no</td>\n",
       "      <td>no</td>\n",
       "      <td>telephone</td>\n",
       "      <td>oct</td>\n",
       "      <td>3</td>\n",
       "      <td>155</td>\n",
       "      <td>1</td>\n",
       "      <td>Dewasa</td>\n",
       "    </tr>\n",
       "    <tr>\n",
       "      <th>7808</th>\n",
       "      <td>62</td>\n",
       "      <td>housemaid</td>\n",
       "      <td>2</td>\n",
       "      <td>no</td>\n",
       "      <td>no</td>\n",
       "      <td>cellular</td>\n",
       "      <td>nov</td>\n",
       "      <td>1</td>\n",
       "      <td>-1</td>\n",
       "      <td>1</td>\n",
       "      <td>Lansia</td>\n",
       "    </tr>\n",
       "    <tr>\n",
       "      <th>7809</th>\n",
       "      <td>48</td>\n",
       "      <td>housemaid</td>\n",
       "      <td>5473</td>\n",
       "      <td>no</td>\n",
       "      <td>no</td>\n",
       "      <td>cellular</td>\n",
       "      <td>feb</td>\n",
       "      <td>2</td>\n",
       "      <td>184</td>\n",
       "      <td>1</td>\n",
       "      <td>Dewasa</td>\n",
       "    </tr>\n",
       "    <tr>\n",
       "      <th>7812</th>\n",
       "      <td>60</td>\n",
       "      <td>retired</td>\n",
       "      <td>1588</td>\n",
       "      <td>no</td>\n",
       "      <td>no</td>\n",
       "      <td>cellular</td>\n",
       "      <td>oct</td>\n",
       "      <td>1</td>\n",
       "      <td>-1</td>\n",
       "      <td>1</td>\n",
       "      <td>Lansia</td>\n",
       "    </tr>\n",
       "  </tbody>\n",
       "</table>\n",
       "<p>3732 rows × 11 columns</p>\n",
       "</div>"
      ],
      "text/plain": [
       "      age            job  balance housing loan    contact month  campaign  \\\n",
       "0      55         admin.     1662      no   no   cellular   jun         2   \n",
       "1      39  self-employed    -3058     yes  yes   cellular   apr         3   \n",
       "2      51         admin.     3025      no   no   cellular   may         1   \n",
       "6      37         admin.     4803      no   no   cellular   jan         2   \n",
       "7      36     technician      911     yes  yes   cellular   may         2   \n",
       "...   ...            ...      ...     ...  ...        ...   ...       ...   \n",
       "7802   63        retired    12067      no   no  telephone   apr         1   \n",
       "7805   47     management      159      no   no  telephone   oct         3   \n",
       "7808   62      housemaid        2      no   no   cellular   nov         1   \n",
       "7809   48      housemaid     5473      no   no   cellular   feb         2   \n",
       "7812   60        retired     1588      no   no   cellular   oct         1   \n",
       "\n",
       "      pdays  deposit kelompok_usia  \n",
       "0        -1        1        Dewasa  \n",
       "1        -1        1        Dewasa  \n",
       "2       352        1        Dewasa  \n",
       "6        -1        1        Dewasa  \n",
       "7        21        1        Dewasa  \n",
       "...     ...      ...           ...  \n",
       "7802    191        1        Lansia  \n",
       "7805    155        1        Dewasa  \n",
       "7808     -1        1        Lansia  \n",
       "7809    184        1        Dewasa  \n",
       "7812     -1        1        Lansia  \n",
       "\n",
       "[3732 rows x 11 columns]"
      ]
     },
     "execution_count": 25,
     "metadata": {},
     "output_type": "execute_result"
    }
   ],
   "source": [
    "Nasabah_Dana"
   ]
  },
  {
   "cell_type": "code",
   "execution_count": 26,
   "id": "aec55f1a-fe8b-43de-889a-6466e079204c",
   "metadata": {},
   "outputs": [
    {
     "data": {
      "image/png": "[encoded data removed]",
      "text/plain": [
       "<Figure size 640x480 with 1 Axes>"
      ]
     },
     "metadata": {},
     "output_type": "display_data"
    }
   ],
   "source": [
    "# Hitung jumlah deposit untuk setiap rentang saldo\n",
    "Nasabah_Dana_Umur = Nasabah_Dana.groupby('kelompok_usia').size().reset_index(name='jumlah')\n",
    "\n",
    "# Visualisasi menggunakan Seaborn\n",
    "sns.barplot(x='kelompok_usia', y='jumlah', data=Nasabah_Dana_Umur)\n",
    "plt.title('Jumlah Orang yang Tertarik Membuka Deposito Berdasarkan Saldo')\n",
    "plt.xlabel('Rentang Umur')\n",
    "plt.ylabel('Jumlah Orang Tertarik Membuka Deposito')\n",
    "plt.xticks(rotation=45)\n",
    "plt.show()"
   ]
  },
  {
   "cell_type": "markdown",
   "id": "452ab272-6ee7-420e-87f1-cf5817f73cd9",
   "metadata": {},
   "source": [
    "Hal ini memperlihatkan bahwa nasabah yang cenderung menempatkan dana adalah nasabah di usia dewasa. (17-59 tahun)"
   ]
  },
  {
   "cell_type": "markdown",
   "id": "255e26b4-b937-4a6b-9a5d-458ea83573af",
   "metadata": {},
   "source": [
    "Selanjutnya kita akan melakukan model training."
   ]
  },
  {
   "cell_type": "code",
   "execution_count": 27,
   "id": "6931adf0-eb6f-4108-974d-e8af253dabfb",
   "metadata": {},
   "outputs": [],
   "source": [
    "# Pisahkan fitur dan target\n",
    "X = bank_model.drop('deposit', axis=1)\n",
    "y = bank_model['deposit']"
   ]
  },
  {
   "cell_type": "code",
   "execution_count": 33,
   "id": "3bcb918c-6ee6-417f-b107-34d9177be3e9",
   "metadata": {},
   "outputs": [],
   "source": [
    "# Membagi data menjadi data train dan test\n",
    "X_train, X_test, y_train, y_test = train_test_split(X, y, test_size=0.2, random_state=2024)"
   ]
  },
  {
   "cell_type": "markdown",
   "id": "02cfb64c-c649-422c-ab64-40e2a523a5b2",
   "metadata": {},
   "source": [
    "Test size 0.2: Artinya, 20% dari data digunakan untuk pengujian (testing), sementara 80% digunakan untuk pelatihan (training)."
   ]
  },
  {
   "cell_type": "code",
   "execution_count": 34,
   "id": "a07c94cb-7d85-41bd-bb12-62185def7004",
   "metadata": {},
   "outputs": [],
   "source": [
    "# Identifikasi fitur kategorikal dan numerik\n",
    "categorical_features = ['job', 'housing', 'loan', 'contact', 'month']\n",
    "numerical_features = ['age', 'balance', 'campaign', 'pdays']"
   ]
  },
  {
   "cell_type": "code",
   "execution_count": 35,
   "id": "fb926981-9e98-4cd3-963b-e623f65c0419",
   "metadata": {},
   "outputs": [],
   "source": [
    "# Buat preprocess pipeline untuk fitur kategorikal dan numerik\n",
    "from sklearn.preprocessing import OneHotEncoder, StandardScaler\n",
    "\n",
    "preprocessor = ColumnTransformer(\n",
    "    transformers=[\n",
    "        ('num', StandardScaler(), numerical_features),\n",
    "        ('cat', OneHotEncoder(), categorical_features)\n",
    "    ])"
   ]
  },
  {
   "cell_type": "code",
   "execution_count": 36,
   "id": "f7b156ef-ab82-469f-b56b-1f42ee3bcc67",
   "metadata": {},
   "outputs": [],
   "source": [
    "# Buat pipeline dengan preprocessor dan model RandomForest\n",
    "model = Pipeline(steps=[\n",
    "    ('preprocessor', preprocessor),\n",
    "    ('classifier', RandomForestClassifier(n_estimators=100, random_state=2024))\n",
    "])"
   ]
  },
  {
   "cell_type": "code",
   "execution_count": 37,
   "id": "7957b42f-1184-4654-8c6a-99ff5f38d391",
   "metadata": {},
   "outputs": [],
   "source": [
    "# Train model\n",
    "model.fit(X_train, y_train)\n",
    "\n",
    "# Prediksi\n",
    "y_pred = model.predict(X_test)"
   ]
  },
  {
   "cell_type": "code",
   "execution_count": 38,
   "id": "11ea4c8a-54c0-429c-8077-69767c5a50c4",
   "metadata": {},
   "outputs": [
    {
     "name": "stdout",
     "output_type": "stream",
     "text": [
      "Confusion Matrix:\n",
      "[[626 192]\n",
      " [280 465]]\n"
     ]
    }
   ],
   "source": [
    "# Evaluasi\n",
    "cm = confusion_matrix(y_test, y_pred)\n",
    "tn, fp, fn, tp = cm.ravel()\n",
    "\n",
    "print(\"Confusion Matrix:\")\n",
    "print(cm)"
   ]
  },
  {
   "cell_type": "code",
   "execution_count": 40,
   "id": "0000b777-5395-442c-89a5-dbc43d707131",
   "metadata": {},
   "outputs": [
    {
     "name": "stdout",
     "output_type": "stream",
     "text": [
      "Type I Error (False Positive Rate): 0.23471882640586797\n",
      "Type II Error (False Negative Rate): 0.37583892617449666\n"
     ]
    }
   ],
   "source": [
    "# Hitung Type I Error dan Type II Error\n",
    "type_i_error = fp / (fp + tn)\n",
    "type_ii_error = fn / (fn + tp)\n",
    "\n",
    "print(\"Type I Error (False Positive Rate):\", type_i_error)\n",
    "print(\"Type II Error (False Negative Rate):\", type_ii_error)"
   ]
  },
  {
   "cell_type": "markdown",
   "id": "d9466de5-b19e-4722-946b-d9f45e55d2e6",
   "metadata": {},
   "source": [
    "Tingginya Type II Error (false negatives) berarti bank mungkin kehilangan peluang dari nasabah yang sebenarnya tertarik menempatkan dana. Di sisi lain, Type I Error (false positives) berarti ada beberapa usaha pemasaran yang sia-sia untuk nasabah yang tidak berminat."
   ]
  },
  {
   "cell_type": "code",
   "execution_count": 46,
   "id": "20b9a9f8-97f4-48c0-b224-bbb67ad90f25",
   "metadata": {},
   "outputs": [
    {
     "name": "stdout",
     "output_type": "stream",
     "text": [
      "Accuracy: 0.6980166346769033\n",
      "Classification Report:\n",
      "              precision    recall  f1-score   support\n",
      "\n",
      "           0       0.69      0.77      0.73       818\n",
      "           1       0.71      0.62      0.66       745\n",
      "\n",
      "    accuracy                           0.70      1563\n",
      "   macro avg       0.70      0.69      0.69      1563\n",
      "weighted avg       0.70      0.70      0.70      1563\n",
      "\n"
     ]
    }
   ],
   "source": [
    "# Print classification report untuk metrik lainnya\n",
    "print(\"Accuracy:\", accuracy_score(y_test, y_pred))\n",
    "print(\"Classification Report:\")\n",
    "print(classification_report(y_test, y_pred))"
   ]
  },
  {
   "cell_type": "code",
   "execution_count": 47,
   "id": "264da1f0-ca8a-4be7-b10a-f32b88df9ddd",
   "metadata": {},
   "outputs": [
    {
     "data": {
      "text/plain": [
       "['model.pkl']"
      ]
     },
     "execution_count": 47,
     "metadata": {},
     "output_type": "execute_result"
    }
   ],
   "source": [
    "# Simpan model\n",
    "import joblib\n",
    "joblib.dump(model, 'model.pkl')"
   ]
  },
  {
   "cell_type": "markdown",
   "id": "581f33d5-c19a-401d-a0dd-5f7ae347e9f3",
   "metadata": {},
   "source": [
    "**Accuracy**\n",
    "\n",
    "**Accuracy**: 0.698: Akurasi mengukur persentase prediksi yang benar dari keseluruhan prediksi. Dalam kasus ini, model memiliki akurasi sekitar 70%, yang berarti **model berhasil memprediksi dengan benar** sekitar 70% dari semua contoh yang diuji.\n",
    "\n",
    "**Precision, Recall, dan F1-Score**\n",
    "Precision, recall, dan F1-score adalah metrik yang memberikan gambaran lebih rinci tentang kinerja model, terutama pada masing-masing kelas. Berikut interpretasi untuk masing-masing kelas (0 dan 1):\n",
    "\n",
    "**Kelas 0 (Tidak Menempatkan Dana)**\n",
    "\n",
    "-------------------------------------\n",
    "\n",
    "**Precision:** 0.69: Dari semua prediksi yang menyatakan nasabah tidak akan menempatkan dana (kelas 0), 69% di antaranya benar.\n",
    "\n",
    "**Recall:** 0.77: Dari semua nasabah yang sebenarnya tidak menempatkan dana, model berhasil mengidentifikasi 77% dengan benar.\n",
    "\n",
    "**F1-Score:** 0.73: F1-Score adalah rata-rata harmonis dari precision dan recall. Skor ini menunjukkan keseimbangan antara precision dan recall untuk kelas 0."
   ]
  },
  {
   "cell_type": "markdown",
   "id": "3eebb98a-6132-4588-9951-8f13880aa1ea",
   "metadata": {},
   "source": [
    "**Kelas 1 (Menempatkan Dana)**\n",
    "\n",
    "-------------------------------\n",
    "\n",
    "**Precision:** 0.71: Dari semua prediksi yang menyatakan nasabah akan menempatkan dana (kelas 1), 71% di antaranya benar.\n",
    "\n",
    "**Recall:** 0.62: Dari semua nasabah yang sebenarnya menempatkan dana, model berhasil mengidentifikasi 62% dengan benar.\n",
    "\n",
    "**F1-Score:** 0.66: F1-Score adalah rata-rata harmonis dari precision dan recall. Skor ini menunjukkan keseimbangan antara precision dan recall untuk kelas 1."
   ]
  },
  {
   "cell_type": "markdown",
   "id": "996f5e87-95c1-4863-998d-d2cd6398048e",
   "metadata": {},
   "source": [
    "Macro Average dan Weighted Average\n",
    "Macro Average: Rata-rata precision, recall, dan F1-score dihitung untuk setiap kelas dan kemudian dirata-rata. Ini memperlakukan setiap kelas dengan bobot yang sama.\n",
    "\n",
    "Weighted Average: Rata-rata precision, recall, dan F1-score dihitung dengan mempertimbangkan jumlah sampel di setiap kelas. Ini memberikan bobot lebih pada kelas dengan lebih banyak sampel."
   ]
  },
  {
   "cell_type": "markdown",
   "id": "d0e1abf8-880d-460a-b7ea-d1843d19e3fd",
   "metadata": {},
   "source": [
    "**Kesimpulan**\n",
    "==============\n",
    "\n",
    "**Precision dan Recall**: Precision untuk kelas 1 (71%) lebih tinggi daripada recall untuk kelas 1 (62%), yang menunjukkan bahwa model lebih baik dalam memprediksi bahwa nasabah akan menempatkan dana, tetapi sering kali melewatkan nasabah yang sebenarnya bermaksud menempatkan dana (Type II Error lebih tinggi).\n",
    "\n",
    "**F1-Score**: F1-score untuk kedua kelas cukup seimbang, menunjukkan bahwa model memiliki kinerja yang cukup baik secara keseluruhan, meskipun ada ruang untuk perbaikan.\n",
    "\n",
    "**Accuracy:** Akurasi 70% menunjukkan kinerja yang cukup baik, tetapi model masih bisa ditingkatkan terutama untuk meningkatkan recall pada kelas 1.\n",
    "\n",
    "**Type I Error dan Type II Error:** Tingginya Type II Error (false negatives) berarti bank mungkin kehilangan peluang dari nasabah yang sebenarnya tertarik menempatkan dana. Di sisi lain, Type I Error (false positives) berarti ada beberapa usaha pemasaran yang sia-sia untuk nasabah yang tidak berminat.\n",
    "\n",
    "\n",
    "**Contoh Simulasi**\n",
    "====\n",
    "\n",
    "Misalkan Bank memiliki target nama 1000 orang yang telah diproses menggunakan model ini, dan 1 nama diasumsikan memakan biaya Rp10.000 untuk menghubunginya (biaya pulsa). Model memiliki Type I error sebesar 23%. Maka jumlah biaya yang mungkin terbuang adalah:\n",
    "\n",
    "23% x 1.000 (nasabah) x 10.000 (rupiah) = 2.300.000\n",
    "\n",
    "Sedangkan apabila bank salah memilih nama nasabah yang seharusnya dapat melakukan pembukaan rekening namun tidak dihubungi, kerugiannya adalah sebagai berikut, dengan asumsi keuntungan yang diterima (misal dari biaya rekening bulanan sebesar 15.000 tiap nasabah selama 1 bulan)\n",
    "Model memiliki Type II error sebesar 37%, maka jumlah keuntungan yang mungkin tidak jadi didapatkan adalah:\n",
    "\n",
    "Potensi Pendapatan = 37% x 1000 (nasabah) x 15000 (rupiah) x 12 (bulan) = 66.600.000\n",
    "Biaya pemasaran = 37% x 1000 (nasabah) x 10000 (rupiah) = 3.700.000\n",
    "Potensi Pendapatan yang tidak jadi didapat = 62.900.000\n"
   ]
  },
  {
   "cell_type": "markdown",
   "id": "c6185501-00c5-40d5-aed2-7fda23de600b",
   "metadata": {},
   "source": [
    "**Keterbatasan dan Rekomendasi**\n",
    "=======\n",
    "\n",
    "Dari sisi data:\n",
    "\n",
    "Data ini memiliki beberapa data outlier, yang walaupun masih masuk akal, dapat membuat hasil kurang akurat. (misal ada beberapa nasabah yang memiliki saldo tinggi) saran untuk penelitian selanjutnya, mungkin dapat dibedakan berdasarkan kelas penghasilan nasabah apabila terdapat datanya. \n",
    "selain itu data ini juga hanya memuat data nasabah pada 1 tahun saja karena tidak terdapat info tahun data.\n",
    "\n",
    "Dari sisi metode:\n",
    "\n",
    "saya tidak melakukan improvement akurasi model karena keterbatasan waktu, mungkin akan lebih baik jika penelitian berikutnya dapat menggunakan metode-metode yang dapat meningkatkan kemampuan evaluasi model seperti hyperparameter tuning atau model lain seperti Logistic Regression, Support Vector Machine (SVM), Gradient Boosting Machines (GBM), XGBoost, LightGBM, CatBoost.\n",
    "\n",
    "\n",
    "Terimakasih, semoga bermanfaat bagi kita semua"
   ]
  },
  {
   "cell_type": "code",
   "execution_count": null,
   "id": "74948f4e-6606-4123-b295-388e70b39004",
   "metadata": {},
   "outputs": [],
   "source": []
  }
 ],
 "metadata": {
  "kernelspec": {
   "display_name": "Python 3 (ipykernel)",
   "language": "python",
   "name": "python3"
  },
  "language_info": {
   "codemirror_mode": {
    "name": "ipython",
    "version": 3
   },
   "file_extension": ".py",
   "mimetype": "text/x-python",
   "name": "python",
   "nbconvert_exporter": "python",
   "pygments_lexer": "ipython3",
   "version": "3.11.7"
  }
 },
 "nbformat": 4,
 "nbformat_minor": 5
}
